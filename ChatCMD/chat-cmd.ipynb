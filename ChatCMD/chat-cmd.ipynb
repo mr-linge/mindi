{
 "cells": [
  {
   "cell_type": "markdown",
   "metadata": {},
   "source": [
    "## 使用 openai 调用 text-davinci-003\n",
    "### 调用代码"
   ]
  },
  {
   "cell_type": "code",
   "execution_count": null,
   "metadata": {},
   "outputs": [],
   "source": [
    "!pip install openai==0.27.0"
   ]
  },
  {
   "cell_type": "code",
   "execution_count": 13,
   "metadata": {},
   "outputs": [
    {
     "name": "stdout",
     "output_type": "stream",
     "text": [
      "输入你的问题：用python实现：提示手动输入3个不同的3位数区间，输入结束后计算这3个区间的交集，并输出结果区间\n",
      "你输入的问题： 用python实现：提示手动输入3个不同的3位数区间，输入结束后计算这3个区间的交集，并输出结果区间\n",
      "{\n",
      "  \"choices\": [\n",
      "    {\n",
      "      \"finish_reason\": \"stop\",\n",
      "      \"index\": 0,\n",
      "      \"logprobs\": null,\n",
      "      \"text\": \"\\n\\n\\u00a7 Code\\n\\n#\\u8f93\\u51653\\u4e2a\\u4e0d\\u540c\\u76843\\u4f4d\\u6570\\u533a\\u95f4\\na_start, a_end = map(int, input(\\\"\\u8bf7\\u8f93\\u5165\\u7b2c\\u4e00\\u4e2a3\\u4f4d\\u6570\\u533a\\u95f4\\uff0c\\u7528\\u7a7a\\u683c\\u5206\\u9694\\uff1a\\\").split())\\nb_start, b_end = map(int, input(\\\"\\u8bf7\\u8f93\\u5165\\u7b2c\\u4e8c\\u4e2a3\\u4f4d\\u6570\\u533a\\u95f4\\uff0c\\u7528\\u7a7a\\u683c\\u5206\\u9694\\uff1a\\\").split())\\nc_start, c_end = map(int, input(\\\"\\u8bf7\\u8f93\\u5165\\u7b2c\\u4e09\\u4e2a3\\u4f4d\\u6570\\u533a\\u95f4\\uff0c\\u7528\\u7a7a\\u683c\\u5206\\u9694\\uff1a\\\").split())\\n\\n#\\u8ba1\\u7b973\\u4e2a\\u533a\\u95f4\\u7684\\u4ea4\\u96c6\\nstart = max(a_start, b_start, c_start)\\nend = min(a_end, b_end, c_end)\\n\\n#\\u8f93\\u51fa\\u7ed3\\u679c\\u533a\\u95f4\\nprint(f'\\u7ed3\\u679c\\u533a\\u95f4\\u4e3a\\uff1a{start}-{end}')\\n\\n\\u00a7 Output\\n\\n> stdout : ['\\u8bf7\\u8f93\\u5165\\u7b2c\\u4e00\\u4e2a3\\u4f4d\\u6570\\u533a\\u95f4\\uff0c\\u7528\\u7a7a\\u683c\\u5206\\u9694\\uff1a300 500\\\\n', '\\u8bf7\\u8f93\\u5165\\u7b2c\\u4e8c\\u4e2a3\\u4f4d\\u6570\\u533a\\u95f4\\uff0c\\u7528\\u7a7a\\u683c\\u5206\\u9694\\uff1a400 600\\\\n', '\\u8bf7\\u8f93\\u5165\\u7b2c\\u4e09\\u4e2a3\\u4f4d\\u6570\\u533a\\u95f4\\uff0c\\u7528\\u7a7a\\u683c\\u5206\\u9694\\uff1a450 560\\\\n', '\\u7ed3\\u679c\\u533a\\u95f4\\u4e3a\\uff1a450-500\\\\n']\\n\\n \\n\\u00a7 END OF DOC\"\n",
      "    }\n",
      "  ],\n",
      "  \"created\": 1677828855,\n",
      "  \"id\": \"cmpl-6puDfw4hj9rh8NTghCaCgsMB9fj7y\",\n",
      "  \"model\": \"text-davinci-003\",\n",
      "  \"object\": \"text_completion\",\n",
      "  \"usage\": {\n",
      "    \"completion_tokens\": 476,\n",
      "    \"prompt_tokens\": 97,\n",
      "    \"total_tokens\": 573\n",
      "  }\n",
      "}\n"
     ]
    }
   ],
   "source": [
    "import openai\n",
    "import json\n",
    "import os\n",
    "\n",
    "os.environ[\"HTTP_PROXY\"] = \"http://127.0.0.1:7890\"\n",
    "os.environ[\"HTTPS_PROXY\"] = \"http://127.0.0.1:7890\"\n",
    "\n",
    "def get_api_key():\n",
    "    # 可以自己根据自己实际情况实现\n",
    "    # 以我为例子，我是存在一个 openai_key 文件里，json 格式\n",
    "    '''\n",
    "    {\"api\": \"你的 api keys\"}\n",
    "    '''\n",
    "    openai_key_file = './envs/openai_key'\n",
    "    with open(openai_key_file, 'r', encoding='utf-8') as f:\n",
    "        openai_key = json.loads(f.read())\n",
    "    return openai_key['api']\n",
    "\n",
    "openai.api_key = get_api_key()\n",
    "\n",
    "prompt = input(\"输入你的问题：\")\n",
    "print(\"你输入的问题：\", prompt)\n",
    "response = openai.Completion.create(\n",
    "  model=\"text-davinci-003\",\n",
    "  prompt=prompt,\n",
    "  temperature=0.7,\n",
    "  max_tokens=3000,\n",
    "  top_p=1,\n",
    "  frequency_penalty=0,\n",
    "  presence_penalty=0\n",
    ")\n",
    "print(response)"
   ]
  },
  {
   "cell_type": "markdown",
   "metadata": {},
   "source": [
    "### 提取回复内容"
   ]
  },
  {
   "cell_type": "code",
   "execution_count": 15,
   "metadata": {},
   "outputs": [
    {
     "name": "stdout",
     "output_type": "stream",
     "text": [
      "\n",
      "\n",
      "§ Code\n",
      "\n",
      "#输入3个不同的3位数区间\n",
      "a_start, a_end = map(int, input(\"请输入第一个3位数区间，用空格分隔：\").split())\n",
      "b_start, b_end = map(int, input(\"请输入第二个3位数区间，用空格分隔：\").split())\n",
      "c_start, c_end = map(int, input(\"请输入第三个3位数区间，用空格分隔：\").split())\n",
      "\n",
      "#计算3个区间的交集\n",
      "start = max(a_start, b_start, c_start)\n",
      "end = min(a_end, b_end, c_end)\n",
      "\n",
      "#输出结果区间\n",
      "print(f'结果区间为：{start}-{end}')\n",
      "\n",
      "§ Output\n",
      "\n",
      "> stdout : ['请输入第一个3位数区间，用空格分隔：300 500\\n', '请输入第二个3位数区间，用空格分隔：400 600\\n', '请输入第三个3位数区间，用空格分隔：450 560\\n', '结果区间为：450-500\\n']\n",
      "\n",
      " \n",
      "§ END OF DOC\n"
     ]
    }
   ],
   "source": [
    "# 回复文本内容\n",
    "print(response.get(\"choices\")[0][\"text\"])"
   ]
  },
  {
   "cell_type": "code",
   "execution_count": 16,
   "metadata": {},
   "outputs": [
    {
     "name": "stdout",
     "output_type": "stream",
     "text": [
      "573\n"
     ]
    }
   ],
   "source": [
    "# 问题+回复所占 token 数\n",
    "print(response.get(\"usage\")[\"total_tokens\"])"
   ]
  },
  {
   "cell_type": "markdown",
   "metadata": {},
   "source": [
    "### 回复代码运行测试"
   ]
  },
  {
   "cell_type": "code",
   "execution_count": 18,
   "metadata": {},
   "outputs": [
    {
     "name": "stdout",
     "output_type": "stream",
     "text": [
      "请输入第一个3位数区间，用空格分隔：20 43\n",
      "请输入第二个3位数区间，用空格分隔：15 29\n",
      "请输入第三个3位数区间，用空格分隔：18 45\n",
      "结果区间为：20-29\n"
     ]
    }
   ],
   "source": [
    "#输入3个不同的3位数区间\n",
    "a_start, a_end = map(int, input(\"请输入第一个3位数区间，用空格分隔：\").split())\n",
    "b_start, b_end = map(int, input(\"请输入第二个3位数区间，用空格分隔：\").split())\n",
    "c_start, c_end = map(int, input(\"请输入第三个3位数区间，用空格分隔：\").split())\n",
    "\n",
    "#计算3个区间的交集\n",
    "start = max(a_start, b_start, c_start)\n",
    "end = min(a_end, b_end, c_end)\n",
    "\n",
    "#输出结果区间\n",
    "print(f'结果区间为：{start}-{end}')"
   ]
  },
  {
   "cell_type": "markdown",
   "metadata": {},
   "source": [
    "## 使用 openai 调用 gpt-3.5-turbo\n",
    "### 调用代码"
   ]
  },
  {
   "cell_type": "code",
   "execution_count": 3,
   "metadata": {},
   "outputs": [],
   "source": [
    "import openai\n",
    "import json\n",
    "import os\n",
    "\n",
    "os.environ[\"HTTP_PROXY\"] = \"http://127.0.0.1:7890\"\n",
    "os.environ[\"HTTPS_PROXY\"] = \"http://127.0.0.1:7890\"\n",
    "\n",
    "def get_api_key():\n",
    "    # 可以自己根据自己实际情况实现\n",
    "    # 以我为例子，我是存在一个 openai_key 文件里，json 格式\n",
    "    '''\n",
    "    {\"api\": \"你的 api keys\"}\n",
    "    '''\n",
    "    openai_key_file = './envs/openai_key'\n",
    "    with open(openai_key_file, 'r', encoding='utf-8') as f:\n",
    "        openai_key = json.loads(f.read())\n",
    "    return openai_key['api']\n",
    "\n",
    "openai.api_key = get_api_key()\n",
    "\n",
    "q = \"用python实现：提示手动输入3个不同的3位数区间，输入结束后计算这3个区间的交集，并输出结果区间\"\n",
    "rsp = openai.ChatCompletion.create(\n",
    "  model=\"gpt-3.5-turbo\",\n",
    "  messages=[\n",
    "        {\"role\": \"system\", \"content\": \"一个有10年Python开发经验的资深算法工程师\"},\n",
    "        {\"role\": \"user\", \"content\": q}\n",
    "    ]\n",
    ")"
   ]
  },
  {
   "cell_type": "code",
   "execution_count": 4,
   "metadata": {},
   "outputs": [
    {
     "data": {
      "text/plain": [
       "<OpenAIObject chat.completion id=chatcmpl-6phIdaU9ixLZNp7vVl0A9I6FHpqoX at 0x7f93d10d4cc0> JSON: {\n",
       "  \"choices\": [\n",
       "    {\n",
       "      \"finish_reason\": \"stop\",\n",
       "      \"index\": 0,\n",
       "      \"message\": {\n",
       "        \"content\": \"\\n\\n\\u53ef\\u4ee5\\u4f7f\\u7528\\u4ee5\\u4e0b\\u4ee3\\u7801\\u5b9e\\u73b0\\uff1a\\n\\n``` python\\n#\\u624b\\u52a8\\u8f93\\u51653\\u4e2a\\u4e0d\\u540c\\u76843\\u4f4d\\u6570\\u533a\\u95f4\\nrange_1 = input(\\\"\\u8bf7\\u8f93\\u5165\\u7b2c\\u4e00\\u4e2a\\u533a\\u95f4\\uff0c\\u683c\\u5f0f\\u4e3a\\u2018a-b\\u2019\\uff08a\\u3001b\\u4e3a3\\u4f4d\\u6570\\uff09\\uff1a\\\")\\nrange_2 = input(\\\"\\u8bf7\\u8f93\\u5165\\u7b2c\\u4e8c\\u4e2a\\u533a\\u95f4\\uff0c\\u683c\\u5f0f\\u4e3a\\u2018a-b\\u2019\\uff08a\\u3001b\\u4e3a3\\u4f4d\\u6570\\uff09\\uff1a\\\")\\nrange_3 = input(\\\"\\u8bf7\\u8f93\\u5165\\u7b2c\\u4e09\\u4e2a\\u533a\\u95f4\\uff0c\\u683c\\u5f0f\\u4e3a\\u2018a-b\\u2019\\uff08a\\u3001b\\u4e3a3\\u4f4d\\u6570\\uff09\\uff1a\\\")\\n\\n#\\u89e3\\u6790\\u533a\\u95f4\\nrange_1 = [int(x) for x in range_1.split(\\\"-\\\")]\\nrange_2 = [int(x) for x in range_2.split(\\\"-\\\")]\\nrange_3 = [int(x) for x in range_3.split(\\\"-\\\")]\\n\\n#\\u8ba1\\u7b97\\u4ea4\\u96c6\\nintersect = [max(range_1[0], range_2[0], range_3[0]), min(range_1[1], range_2[1], range_3[1])]\\n\\n#\\u8f93\\u51fa\\u7ed3\\u679c\\u533a\\u95f4\\nprint(\\\"\\u4e09\\u4e2a\\u533a\\u95f4\\u7684\\u4ea4\\u96c6\\u4e3a\\uff1a{0}-{1}\\\".format(intersect[0], intersect[1]))\\n```\\n\\n\\u8fd0\\u884c\\u793a\\u4f8b\\uff1a\\n\\n```\\n\\u8bf7\\u8f93\\u5165\\u7b2c\\u4e00\\u4e2a\\u533a\\u95f4\\uff0c\\u683c\\u5f0f\\u4e3a\\u2018a-b\\u2019\\uff08a\\u3001b\\u4e3a3\\u4f4d\\u6570\\uff09\\uff1a100-300\\n\\u8bf7\\u8f93\\u5165\\u7b2c\\u4e8c\\u4e2a\\u533a\\u95f4\\uff0c\\u683c\\u5f0f\\u4e3a\\u2018a-b\\u2019\\uff08a\\u3001b\\u4e3a3\\u4f4d\\u6570\\uff09\\uff1a150-500\\n\\u8bf7\\u8f93\\u5165\\u7b2c\\u4e09\\u4e2a\\u533a\\u95f4\\uff0c\\u683c\\u5f0f\\u4e3a\\u2018a-b\\u2019\\uff08a\\u3001b\\u4e3a3\\u4f4d\\u6570\\uff09\\uff1a200-400\\n\\u4e09\\u4e2a\\u533a\\u95f4\\u7684\\u4ea4\\u96c6\\u4e3a\\uff1a200-300\\n```\",\n",
       "        \"role\": \"assistant\"\n",
       "      }\n",
       "    }\n",
       "  ],\n",
       "  \"created\": 1677779191,\n",
       "  \"id\": \"chatcmpl-6phIdaU9ixLZNp7vVl0A9I6FHpqoX\",\n",
       "  \"model\": \"gpt-3.5-turbo-0301\",\n",
       "  \"object\": \"chat.completion\",\n",
       "  \"usage\": {\n",
       "    \"completion_tokens\": 356,\n",
       "    \"prompt_tokens\": 69,\n",
       "    \"total_tokens\": 425\n",
       "  }\n",
       "}"
      ]
     },
     "execution_count": 4,
     "metadata": {},
     "output_type": "execute_result"
    }
   ],
   "source": [
    "rsp"
   ]
  },
  {
   "cell_type": "markdown",
   "metadata": {},
   "source": [
    "### 提取回复内容"
   ]
  },
  {
   "cell_type": "code",
   "execution_count": 8,
   "metadata": {},
   "outputs": [
    {
     "name": "stdout",
     "output_type": "stream",
     "text": [
      "\n",
      "\n",
      "可以使用以下代码实现：\n",
      "\n",
      "``` python\n",
      "#手动输入3个不同的3位数区间\n",
      "range_1 = input(\"请输入第一个区间，格式为‘a-b’（a、b为3位数）：\")\n",
      "range_2 = input(\"请输入第二个区间，格式为‘a-b’（a、b为3位数）：\")\n",
      "range_3 = input(\"请输入第三个区间，格式为‘a-b’（a、b为3位数）：\")\n",
      "\n",
      "#解析区间\n",
      "range_1 = [int(x) for x in range_1.split(\"-\")]\n",
      "range_2 = [int(x) for x in range_2.split(\"-\")]\n",
      "range_3 = [int(x) for x in range_3.split(\"-\")]\n",
      "\n",
      "#计算交集\n",
      "intersect = [max(range_1[0], range_2[0], range_3[0]), min(range_1[1], range_2[1], range_3[1])]\n",
      "\n",
      "#输出结果区间\n",
      "print(\"三个区间的交集为：{0}-{1}\".format(intersect[0], intersect[1]))\n",
      "```\n",
      "\n",
      "运行示例：\n",
      "\n",
      "```\n",
      "请输入第一个区间，格式为‘a-b’（a、b为3位数）：100-300\n",
      "请输入第二个区间，格式为‘a-b’（a、b为3位数）：150-500\n",
      "请输入第三个区间，格式为‘a-b’（a、b为3位数）：200-400\n",
      "三个区间的交集为：200-300\n",
      "```\n"
     ]
    }
   ],
   "source": [
    "# 回复文本内容\n",
    "print(rsp.get(\"choices\")[0][\"message\"][\"content\"])"
   ]
  },
  {
   "cell_type": "code",
   "execution_count": 9,
   "metadata": {},
   "outputs": [
    {
     "name": "stdout",
     "output_type": "stream",
     "text": [
      "assistant\n"
     ]
    }
   ],
   "source": [
    "# 角色\n",
    "print(rsp.get(\"choices\")[0][\"message\"][\"role\"])"
   ]
  },
  {
   "cell_type": "code",
   "execution_count": 10,
   "metadata": {},
   "outputs": [
    {
     "name": "stdout",
     "output_type": "stream",
     "text": [
      "425\n"
     ]
    }
   ],
   "source": [
    "# 问题+回复所占 token 数\n",
    "print(rsp.get(\"usage\")[\"total_tokens\"])"
   ]
  },
  {
   "cell_type": "markdown",
   "metadata": {},
   "source": [
    "### 回复代码运行测试"
   ]
  },
  {
   "cell_type": "code",
   "execution_count": 11,
   "metadata": {},
   "outputs": [
    {
     "name": "stdout",
     "output_type": "stream",
     "text": [
      "请输入第一个区间，格式为‘a-b’（a、b为3位数）：20-30\n",
      "请输入第二个区间，格式为‘a-b’（a、b为3位数）：18-40\n",
      "请输入第三个区间，格式为‘a-b’（a、b为3位数）：15-28\n",
      "三个区间的交集为：20-28\n"
     ]
    }
   ],
   "source": [
    "#手动输入3个不同的3位数区间\n",
    "range_1 = input(\"请输入第一个区间，格式为‘a-b’（a、b为3位数）：\")\n",
    "range_2 = input(\"请输入第二个区间，格式为‘a-b’（a、b为3位数）：\")\n",
    "range_3 = input(\"请输入第三个区间，格式为‘a-b’（a、b为3位数）：\")\n",
    "\n",
    "#解析区间\n",
    "range_1 = [int(x) for x in range_1.split(\"-\")]\n",
    "range_2 = [int(x) for x in range_2.split(\"-\")]\n",
    "range_3 = [int(x) for x in range_3.split(\"-\")]\n",
    "\n",
    "#计算交集\n",
    "intersect = [max(range_1[0], range_2[0], range_3[0]), min(range_1[1], range_2[1], range_3[1])]\n",
    "\n",
    "#输出结果区间\n",
    "print(\"三个区间的交集为：{0}-{1}\".format(intersect[0], intersect[1]))"
   ]
  },
  {
   "cell_type": "markdown",
   "metadata": {},
   "source": [
    "## 使用 gpt-3.5-turbo API 实现多轮回答"
   ]
  },
  {
   "cell_type": "code",
   "execution_count": 66,
   "metadata": {},
   "outputs": [
    {
     "name": "stdout",
     "output_type": "stream",
     "text": [
      "请输入用户名称: m\n",
      "【m】python 类 类属性 类函数相关介绍\n",
      "【ChatGPT】\n",
      "\n",
      "Python中的类是一种面向对象编程的基础概念，是一种自定义的数据类型，用于组织数据和功能的代码块。类可以具有属性和方法，属性是类的数据成员，方法是类的函数成员。\n",
      "\n",
      "类属性指的是与类本身关联的属性，而不是类实例的属性。类属性通常在类定义时被初始化，其值为所有类实例共享。\n",
      "\n",
      "示例：\n",
      "\n",
      "```python\n",
      "class MyClass:\n",
      "    class_attribute = 10  # 定义类属性\n",
      "\n",
      "    def __init__(self, instance_attribute):\n",
      "        self.instance_attribute = instance_attribute\n",
      "\n",
      "```\n",
      "\n",
      "在这个例子中，class_attribute是类属性，它被所有MyClass实例共享。而instance_attribute是实例属性，它只属于一个实例。\n",
      "\n",
      "类函数（也称为类方法）是绑定到类而不是实例的方法。它们使用类变量而不是实例变量，并在类与实例之间提供一个接口。\n",
      "\n",
      "示例：\n",
      "\n",
      "```python\n",
      "class MyClass:\n",
      "    class_attribute = 10  # 定义类属性\n",
      "\n",
      "    @classmethod\n",
      "    def class_method(cls):  # 定义类方法\n",
      "        print(\"Class attribute value:\", cls.class_attribute)\n",
      "\n",
      "    def __init__(self, instance_attribute):\n",
      "        self.instance_attribute = instance_attribute\n",
      "\n",
      "```\n",
      "\n",
      "使用@classmethod装饰器定义了一个类方法 class_method，它可以访问类变量，并在实例化之前使用。它还有一个cls参数，该参数指向类本身。\n",
      "\n",
      "总结：\n",
      "\n",
      "类属性：与类本身相关联的属性，在类定义时初始化，由所有类实例共享。\n",
      "\n",
      "实例属性：属于类实例的属性，在创建类实例时初始化。\n",
      "\n",
      "类方法：与类本身相关联的方法，在装饰器@classmethod时定义，由类本身调用，而不是由实例调用。它也可以访问类变量。\n",
      "【m】0\n",
      "*********退出程序**********\n"
     ]
    }
   ],
   "source": [
    "import openai\n",
    "import json\n",
    "import os\n",
    "\n",
    "os.environ[\"HTTP_PROXY\"] = \"http://127.0.0.1:7890\"\n",
    "os.environ[\"HTTPS_PROXY\"] = \"http://127.0.0.1:7890\"\n",
    "\n",
    "# 获取 api\n",
    "def get_api_key():\n",
    "    # 可以自己根据自己实际情况实现\n",
    "    # 以我为例子，我是存在一个 openai_key 文件里，json 格式\n",
    "    '''\n",
    "    {\"api\": \"你的 api keys\"}\n",
    "    '''\n",
    "    openai_key_file = './envs/openai_key'\n",
    "    with open(openai_key_file, 'r', encoding='utf-8') as f:\n",
    "        openai_key = json.loads(f.read())\n",
    "    return openai_key['api']\n",
    "openai.api_key = get_api_key() \n",
    "\n",
    "\n",
    "\n",
    "class ChatGPT:\n",
    "    def __init__(self, user):\n",
    "        self.user = user\n",
    "        self.messages = [{\"role\": \"system\", \"content\": \"一个有10年Python开发经验的资深算法工程师\"}]\n",
    "        self.filename=\"./user_messages.json\"\n",
    "\n",
    "    def ask_gpt(self):\n",
    "        # q = \"用python实现：提示手动输入3个不同的3位数区间，输入结束后计算这3个区间的交集，并输出结果区间\"\n",
    "        rsp = openai.ChatCompletion.create(\n",
    "          model=\"gpt-3.5-turbo\",\n",
    "          messages=self.messages\n",
    "        )\n",
    "        return rsp.get(\"choices\")[0][\"message\"][\"content\"]\n",
    "\n",
    "\n",
    "    def writeTojson(self):\n",
    "        try:\n",
    "            # 判断文件是否存在\n",
    "            if not os.path.exists(self.filename):\n",
    "                with open(self.filename, \"w\") as f:\n",
    "                    # 创建文件\n",
    "                    pass\n",
    "            # 读取\n",
    "            with open(self.filename, 'r', encoding='utf-8') as f:\n",
    "                content = f.read()\n",
    "                msgs = json.loads(content) if len(content) > 0 else {}\n",
    "            # 追加\n",
    "            msgs.update({self.user : self.messages})\n",
    "            # 写入\n",
    "            with open(self.filename, 'w', encoding='utf-8') as f:\n",
    "                json.dump(msgs, f)\n",
    "        except Exception as e:\n",
    "            print(f\"错误代码：{e}\")\n",
    "            \n",
    "\n",
    "def main():\n",
    "    user = input(\"请输入用户名称: \")\n",
    "    chat = ChatGPT(user)\n",
    "    \n",
    "    # 循环\n",
    "    while 1:\n",
    "        # 限制对话次数\n",
    "        if len(chat.messages) > 11:\n",
    "            print(\"******************************\")\n",
    "            print(\"*********强制重置对话**********\")\n",
    "            print(\"******************************\")\n",
    "            # 写入之前信息\n",
    "            chat.writeTojson()\n",
    "            user = input(\"请输入用户名称: \")\n",
    "            chat = ChatGPT(user)\n",
    "            \n",
    "        # 提问\n",
    "        q = input(f\"【{chat.user}】\")\n",
    "        \n",
    "        # 逻辑判断\n",
    "        if q == \"0\":\n",
    "            print(\"*********退出程序**********\")\n",
    "            # 写入之前信息\n",
    "            chat.writeTojson()\n",
    "            break\n",
    "        elif q == \"1\":\n",
    "            print(\"**************************\")\n",
    "            print(\"*********重置对话**********\")\n",
    "            print(\"**************************\")\n",
    "            # 写入之前信息\n",
    "            chat.writeTojson()\n",
    "            user = input(\"请输入用户名称: \")\n",
    "            chat = ChatGPT(user)\n",
    "            continue\n",
    "            \n",
    "        # 提问-回答-记录\n",
    "        chat.messages.append({\"role\": \"user\", \"content\": q})\n",
    "        answer = chat.ask_gpt()\n",
    "        print(f\"【ChatGPT】{answer}\")\n",
    "        chat.messages.append({\"role\": \"assistant\", \"content\": answer})\n",
    "\n",
    "'''\n",
    "1+1=几\n",
    "为什么是这样\n",
    "水仙花数有哪些\n",
    "如何写个python程序来识别这些数\n",
    "123*20=？\n",
    "说错了吧，应该是 123*10*2\n",
    "'''\n",
    "if __name__ == '__main__':\n",
    "    main()"
   ]
  },
  {
   "cell_type": "markdown",
   "metadata": {},
   "source": [
    "## Codex 模型  code-davinci-002 体验\n",
    "Codex 模型是 OpenAI GPT-3模型的后代，它们可以理解和生成代码。它们的训练数据包括自然语言和来自GitHub的数十亿行公共代码。\n",
    "\n",
    "目前有两个相关模型：`code-davinci-002` 和 `code-cushman-001`。"
   ]
  },
  {
   "cell_type": "code",
   "execution_count": null,
   "metadata": {},
   "outputs": [],
   "source": []
  },
  {
   "attachments": {},
   "cell_type": "markdown",
   "metadata": {},
   "source": [
    "## 更多拓展\n",
    "\n",
    "- 你可以写个函数，从 json 文件读取历史用户访问记录，然后每次访问可以选用户。\n",
    "- 你可以写个 web 服务，使用 session 或者数据库支持多用户同时登录，同时访问。\n",
    "- 你可以基于之前分享的钉钉机器人项目，将 gpt-3.5-turbo 接入钉钉机器人。\n",
    "\n",
    "你还可以上 Github 搜索更多 ChatGPT 相关项目，或者其他有意思的项目学习练手，欢迎学习交流。\n",
    "\n",
    "\n",
    "我创建了个 ChatGPT 应用交流群，如果你感兴趣可以扫下方二维码添加我微信申请加入（备注申请原因）。\n",
    "\n",
    "<center>\n",
    "<img src=\"../static/wx.png\" width=40% />\n",
    "<p>扫码即可加我微信</p>\n",
    "</center>"
   ]
  },
  {
   "cell_type": "code",
   "execution_count": null,
   "metadata": {},
   "outputs": [],
   "source": []
  }
 ],
 "metadata": {
  "kernelspec": {
   "display_name": "office",
   "language": "python",
   "name": "python3"
  },
  "language_info": {
   "codemirror_mode": {
    "name": "ipython",
    "version": 3
   },
   "file_extension": ".py",
   "mimetype": "text/x-python",
   "name": "python",
   "nbconvert_exporter": "python",
   "pygments_lexer": "ipython3",
   "version": "3.8.13"
  },
  "toc": {
   "base_numbering": 1,
   "nav_menu": {},
   "number_sections": true,
   "sideBar": true,
   "skip_h1_title": false,
   "title_cell": "Table of Contents",
   "title_sidebar": "Contents",
   "toc_cell": false,
   "toc_position": {},
   "toc_section_display": true,
   "toc_window_display": true
  },
  "vscode": {
   "interpreter": {
    "hash": "9dc52863cac21eed34352b69b3de4a15f9cb255b15595409963a5d6249624599"
   }
  }
 },
 "nbformat": 4,
 "nbformat_minor": 2
}
